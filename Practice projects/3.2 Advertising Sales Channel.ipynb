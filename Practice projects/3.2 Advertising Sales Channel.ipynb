{
 "cells": [
  {
   "cell_type": "markdown",
   "id": "f66fe790",
   "metadata": {},
   "source": [
    "Advertising Sales Channel Prediction\n",
    "Problem Statement:\n",
    "Sales Channel Prediction Case Study  \n",
    "\n",
    "When a company enters a market, the distribution strategy and channel it uses are keys to its success in the market, as well as market know-how and customer knowledge and understanding. Because an effective distribution strategy under efficient supply-chain management opens doors for attaining competitive advantage and strong brand equity in the market, it is a component of the marketing mix that cannot be ignored . \n",
    "\n",
    "The distribution strategy and the channel design have to be right the first time. The case study of Sales channel includes the detailed study of TV, radio and newspaper channel. The predict the total sales generated from all the sales channel.  "
   ]
  },
  {
   "cell_type": "code",
   "execution_count": 47,
   "id": "5139aab3",
   "metadata": {},
   "outputs": [],
   "source": [
    "import pandas as pd\n",
    "import numpy as np\n",
    "from sklearn.preprocessing import StandardScaler\n",
    "from sklearn.linear_model import LinearRegression\n",
    "from statsmodels.stats.outliers_influence import variance_inflation_factor\n",
    "from sklearn.model_selection import train_test_split\n",
    "%matplotlib inline\n",
    "import matplotlib.pyplot as plt\n",
    "import seaborn as sns"
   ]
  },
  {
   "cell_type": "code",
   "execution_count": 2,
   "id": "adca9204",
   "metadata": {},
   "outputs": [],
   "source": [
    "df=pd.read_csv(\"https://raw.githubusercontent.com/dsrscientist/DSData/master/Advertising.csv\")"
   ]
  },
  {
   "cell_type": "code",
   "execution_count": 3,
   "id": "b6a456cc",
   "metadata": {},
   "outputs": [
    {
     "data": {
      "text/html": [
       "<div>\n",
       "<style scoped>\n",
       "    .dataframe tbody tr th:only-of-type {\n",
       "        vertical-align: middle;\n",
       "    }\n",
       "\n",
       "    .dataframe tbody tr th {\n",
       "        vertical-align: top;\n",
       "    }\n",
       "\n",
       "    .dataframe thead th {\n",
       "        text-align: right;\n",
       "    }\n",
       "</style>\n",
       "<table border=\"1\" class=\"dataframe\">\n",
       "  <thead>\n",
       "    <tr style=\"text-align: right;\">\n",
       "      <th></th>\n",
       "      <th>Unnamed: 0</th>\n",
       "      <th>TV</th>\n",
       "      <th>radio</th>\n",
       "      <th>newspaper</th>\n",
       "      <th>sales</th>\n",
       "    </tr>\n",
       "  </thead>\n",
       "  <tbody>\n",
       "    <tr>\n",
       "      <th>0</th>\n",
       "      <td>1</td>\n",
       "      <td>230.1</td>\n",
       "      <td>37.8</td>\n",
       "      <td>69.2</td>\n",
       "      <td>22.1</td>\n",
       "    </tr>\n",
       "    <tr>\n",
       "      <th>1</th>\n",
       "      <td>2</td>\n",
       "      <td>44.5</td>\n",
       "      <td>39.3</td>\n",
       "      <td>45.1</td>\n",
       "      <td>10.4</td>\n",
       "    </tr>\n",
       "    <tr>\n",
       "      <th>2</th>\n",
       "      <td>3</td>\n",
       "      <td>17.2</td>\n",
       "      <td>45.9</td>\n",
       "      <td>69.3</td>\n",
       "      <td>9.3</td>\n",
       "    </tr>\n",
       "    <tr>\n",
       "      <th>3</th>\n",
       "      <td>4</td>\n",
       "      <td>151.5</td>\n",
       "      <td>41.3</td>\n",
       "      <td>58.5</td>\n",
       "      <td>18.5</td>\n",
       "    </tr>\n",
       "    <tr>\n",
       "      <th>4</th>\n",
       "      <td>5</td>\n",
       "      <td>180.8</td>\n",
       "      <td>10.8</td>\n",
       "      <td>58.4</td>\n",
       "      <td>12.9</td>\n",
       "    </tr>\n",
       "  </tbody>\n",
       "</table>\n",
       "</div>"
      ],
      "text/plain": [
       "   Unnamed: 0     TV  radio  newspaper  sales\n",
       "0           1  230.1   37.8       69.2   22.1\n",
       "1           2   44.5   39.3       45.1   10.4\n",
       "2           3   17.2   45.9       69.3    9.3\n",
       "3           4  151.5   41.3       58.5   18.5\n",
       "4           5  180.8   10.8       58.4   12.9"
      ]
     },
     "execution_count": 3,
     "metadata": {},
     "output_type": "execute_result"
    }
   ],
   "source": [
    "df.head()"
   ]
  },
  {
   "cell_type": "code",
   "execution_count": 6,
   "id": "30ff3b49",
   "metadata": {},
   "outputs": [],
   "source": [
    "df=df.drop(columns=('Unnamed: 0'))"
   ]
  },
  {
   "cell_type": "code",
   "execution_count": 7,
   "id": "49f7cdbd",
   "metadata": {},
   "outputs": [
    {
     "data": {
      "text/html": [
       "<div>\n",
       "<style scoped>\n",
       "    .dataframe tbody tr th:only-of-type {\n",
       "        vertical-align: middle;\n",
       "    }\n",
       "\n",
       "    .dataframe tbody tr th {\n",
       "        vertical-align: top;\n",
       "    }\n",
       "\n",
       "    .dataframe thead th {\n",
       "        text-align: right;\n",
       "    }\n",
       "</style>\n",
       "<table border=\"1\" class=\"dataframe\">\n",
       "  <thead>\n",
       "    <tr style=\"text-align: right;\">\n",
       "      <th></th>\n",
       "      <th>TV</th>\n",
       "      <th>radio</th>\n",
       "      <th>newspaper</th>\n",
       "      <th>sales</th>\n",
       "    </tr>\n",
       "  </thead>\n",
       "  <tbody>\n",
       "    <tr>\n",
       "      <th>0</th>\n",
       "      <td>230.1</td>\n",
       "      <td>37.8</td>\n",
       "      <td>69.2</td>\n",
       "      <td>22.1</td>\n",
       "    </tr>\n",
       "    <tr>\n",
       "      <th>1</th>\n",
       "      <td>44.5</td>\n",
       "      <td>39.3</td>\n",
       "      <td>45.1</td>\n",
       "      <td>10.4</td>\n",
       "    </tr>\n",
       "    <tr>\n",
       "      <th>2</th>\n",
       "      <td>17.2</td>\n",
       "      <td>45.9</td>\n",
       "      <td>69.3</td>\n",
       "      <td>9.3</td>\n",
       "    </tr>\n",
       "    <tr>\n",
       "      <th>3</th>\n",
       "      <td>151.5</td>\n",
       "      <td>41.3</td>\n",
       "      <td>58.5</td>\n",
       "      <td>18.5</td>\n",
       "    </tr>\n",
       "    <tr>\n",
       "      <th>4</th>\n",
       "      <td>180.8</td>\n",
       "      <td>10.8</td>\n",
       "      <td>58.4</td>\n",
       "      <td>12.9</td>\n",
       "    </tr>\n",
       "  </tbody>\n",
       "</table>\n",
       "</div>"
      ],
      "text/plain": [
       "      TV  radio  newspaper  sales\n",
       "0  230.1   37.8       69.2   22.1\n",
       "1   44.5   39.3       45.1   10.4\n",
       "2   17.2   45.9       69.3    9.3\n",
       "3  151.5   41.3       58.5   18.5\n",
       "4  180.8   10.8       58.4   12.9"
      ]
     },
     "execution_count": 7,
     "metadata": {},
     "output_type": "execute_result"
    }
   ],
   "source": [
    "df.head()"
   ]
  },
  {
   "cell_type": "code",
   "execution_count": 8,
   "id": "451b84a8",
   "metadata": {},
   "outputs": [
    {
     "data": {
      "text/plain": [
       "(200, 4)"
      ]
     },
     "execution_count": 8,
     "metadata": {},
     "output_type": "execute_result"
    }
   ],
   "source": [
    "df.shape"
   ]
  },
  {
   "cell_type": "code",
   "execution_count": 15,
   "id": "f0780b44",
   "metadata": {},
   "outputs": [
    {
     "name": "stdout",
     "output_type": "stream",
     "text": [
      "<class 'pandas.core.frame.DataFrame'>\n",
      "RangeIndex: 200 entries, 0 to 199\n",
      "Data columns (total 4 columns):\n",
      " #   Column     Non-Null Count  Dtype  \n",
      "---  ------     --------------  -----  \n",
      " 0   TV         200 non-null    float64\n",
      " 1   radio      200 non-null    float64\n",
      " 2   newspaper  200 non-null    float64\n",
      " 3   sales      200 non-null    float64\n",
      "dtypes: float64(4)\n",
      "memory usage: 6.4 KB\n"
     ]
    }
   ],
   "source": [
    "df.info()"
   ]
  },
  {
   "cell_type": "code",
   "execution_count": 9,
   "id": "0aa3b28c",
   "metadata": {},
   "outputs": [
    {
     "data": {
      "text/html": [
       "<div>\n",
       "<style scoped>\n",
       "    .dataframe tbody tr th:only-of-type {\n",
       "        vertical-align: middle;\n",
       "    }\n",
       "\n",
       "    .dataframe tbody tr th {\n",
       "        vertical-align: top;\n",
       "    }\n",
       "\n",
       "    .dataframe thead th {\n",
       "        text-align: right;\n",
       "    }\n",
       "</style>\n",
       "<table border=\"1\" class=\"dataframe\">\n",
       "  <thead>\n",
       "    <tr style=\"text-align: right;\">\n",
       "      <th></th>\n",
       "      <th>TV</th>\n",
       "      <th>radio</th>\n",
       "      <th>newspaper</th>\n",
       "      <th>sales</th>\n",
       "    </tr>\n",
       "  </thead>\n",
       "  <tbody>\n",
       "    <tr>\n",
       "      <th>count</th>\n",
       "      <td>200.000000</td>\n",
       "      <td>200.000000</td>\n",
       "      <td>200.000000</td>\n",
       "      <td>200.000000</td>\n",
       "    </tr>\n",
       "    <tr>\n",
       "      <th>mean</th>\n",
       "      <td>147.042500</td>\n",
       "      <td>23.264000</td>\n",
       "      <td>30.554000</td>\n",
       "      <td>14.022500</td>\n",
       "    </tr>\n",
       "    <tr>\n",
       "      <th>std</th>\n",
       "      <td>85.854236</td>\n",
       "      <td>14.846809</td>\n",
       "      <td>21.778621</td>\n",
       "      <td>5.217457</td>\n",
       "    </tr>\n",
       "    <tr>\n",
       "      <th>min</th>\n",
       "      <td>0.700000</td>\n",
       "      <td>0.000000</td>\n",
       "      <td>0.300000</td>\n",
       "      <td>1.600000</td>\n",
       "    </tr>\n",
       "    <tr>\n",
       "      <th>25%</th>\n",
       "      <td>74.375000</td>\n",
       "      <td>9.975000</td>\n",
       "      <td>12.750000</td>\n",
       "      <td>10.375000</td>\n",
       "    </tr>\n",
       "    <tr>\n",
       "      <th>50%</th>\n",
       "      <td>149.750000</td>\n",
       "      <td>22.900000</td>\n",
       "      <td>25.750000</td>\n",
       "      <td>12.900000</td>\n",
       "    </tr>\n",
       "    <tr>\n",
       "      <th>75%</th>\n",
       "      <td>218.825000</td>\n",
       "      <td>36.525000</td>\n",
       "      <td>45.100000</td>\n",
       "      <td>17.400000</td>\n",
       "    </tr>\n",
       "    <tr>\n",
       "      <th>max</th>\n",
       "      <td>296.400000</td>\n",
       "      <td>49.600000</td>\n",
       "      <td>114.000000</td>\n",
       "      <td>27.000000</td>\n",
       "    </tr>\n",
       "  </tbody>\n",
       "</table>\n",
       "</div>"
      ],
      "text/plain": [
       "               TV       radio   newspaper       sales\n",
       "count  200.000000  200.000000  200.000000  200.000000\n",
       "mean   147.042500   23.264000   30.554000   14.022500\n",
       "std     85.854236   14.846809   21.778621    5.217457\n",
       "min      0.700000    0.000000    0.300000    1.600000\n",
       "25%     74.375000    9.975000   12.750000   10.375000\n",
       "50%    149.750000   22.900000   25.750000   12.900000\n",
       "75%    218.825000   36.525000   45.100000   17.400000\n",
       "max    296.400000   49.600000  114.000000   27.000000"
      ]
     },
     "execution_count": 9,
     "metadata": {},
     "output_type": "execute_result"
    }
   ],
   "source": [
    "df.describe()"
   ]
  },
  {
   "cell_type": "code",
   "execution_count": 11,
   "id": "d301f27f",
   "metadata": {},
   "outputs": [
    {
     "data": {
      "text/plain": [
       "TV           0\n",
       "radio        0\n",
       "newspaper    0\n",
       "sales        0\n",
       "dtype: int64"
      ]
     },
     "execution_count": 11,
     "metadata": {},
     "output_type": "execute_result"
    }
   ],
   "source": [
    "df.isnull().sum()"
   ]
  },
  {
   "cell_type": "markdown",
   "id": "7cea8d34",
   "metadata": {},
   "source": [
    "1. There is no missing value in the data set.\n",
    "\n"
   ]
  },
  {
   "cell_type": "code",
   "execution_count": 12,
   "id": "517bdb41",
   "metadata": {},
   "outputs": [
    {
     "data": {
      "text/plain": [
       "<AxesSubplot:>"
      ]
     },
     "execution_count": 12,
     "metadata": {},
     "output_type": "execute_result"
    },
    {
     "data": {
      "image/png": "[encoded data removed]",
      "text/plain": [
       "<Figure size 1440x720 with 1 Axes>"
      ]
     },
     "metadata": {
      "needs_background": "light"
     },
     "output_type": "display_data"
    }
   ],
   "source": [
    "%matplotlib inline\n",
    "import matplotlib.pyplot as plt\n",
    "import seaborn as sns\n",
    "df.plot(kind='box', figsize=(20,10), color='r')"
   ]
  },
  {
   "cell_type": "markdown",
   "id": "831ef08c",
   "metadata": {},
   "source": [
    "From the box plot we can see few outliers in newspaper"
   ]
  },
  {
   "cell_type": "code",
   "execution_count": 13,
   "id": "e980b3c0",
   "metadata": {},
   "outputs": [
    {
     "data": {
      "image/png": "[encoded data removed]",
      "text/plain": [
       "<Figure size 1080x1080 with 16 Axes>"
      ]
     },
     "metadata": {
      "needs_background": "light"
     },
     "output_type": "display_data"
    }
   ],
   "source": [
    "from pandas.plotting import scatter_matrix\n",
    "scatter_matrix(df, figsize=(15,15))\n",
    "plt.show()"
   ]
  },
  {
   "cell_type": "markdown",
   "id": "38e3bf2f",
   "metadata": {},
   "source": [
    "From the scatter matrix it can be seen that there is some linear relation between, sales and TV, Radio and newspaper.\n",
    "There is no interrealtion between Tv, radio and newspaper"
   ]
  },
  {
   "cell_type": "code",
   "execution_count": 16,
   "id": "78a6a00e",
   "metadata": {},
   "outputs": [
    {
     "data": {
      "text/html": [
       "<div>\n",
       "<style scoped>\n",
       "    .dataframe tbody tr th:only-of-type {\n",
       "        vertical-align: middle;\n",
       "    }\n",
       "\n",
       "    .dataframe tbody tr th {\n",
       "        vertical-align: top;\n",
       "    }\n",
       "\n",
       "    .dataframe thead th {\n",
       "        text-align: right;\n",
       "    }\n",
       "</style>\n",
       "<table border=\"1\" class=\"dataframe\">\n",
       "  <thead>\n",
       "    <tr style=\"text-align: right;\">\n",
       "      <th></th>\n",
       "      <th>TV</th>\n",
       "      <th>radio</th>\n",
       "      <th>newspaper</th>\n",
       "      <th>sales</th>\n",
       "    </tr>\n",
       "  </thead>\n",
       "  <tbody>\n",
       "    <tr>\n",
       "      <th>TV</th>\n",
       "      <td>1.000000</td>\n",
       "      <td>0.054809</td>\n",
       "      <td>0.056648</td>\n",
       "      <td>0.782224</td>\n",
       "    </tr>\n",
       "    <tr>\n",
       "      <th>radio</th>\n",
       "      <td>0.054809</td>\n",
       "      <td>1.000000</td>\n",
       "      <td>0.354104</td>\n",
       "      <td>0.576223</td>\n",
       "    </tr>\n",
       "    <tr>\n",
       "      <th>newspaper</th>\n",
       "      <td>0.056648</td>\n",
       "      <td>0.354104</td>\n",
       "      <td>1.000000</td>\n",
       "      <td>0.228299</td>\n",
       "    </tr>\n",
       "    <tr>\n",
       "      <th>sales</th>\n",
       "      <td>0.782224</td>\n",
       "      <td>0.576223</td>\n",
       "      <td>0.228299</td>\n",
       "      <td>1.000000</td>\n",
       "    </tr>\n",
       "  </tbody>\n",
       "</table>\n",
       "</div>"
      ],
      "text/plain": [
       "                 TV     radio  newspaper     sales\n",
       "TV         1.000000  0.054809   0.056648  0.782224\n",
       "radio      0.054809  1.000000   0.354104  0.576223\n",
       "newspaper  0.056648  0.354104   1.000000  0.228299\n",
       "sales      0.782224  0.576223   0.228299  1.000000"
      ]
     },
     "execution_count": 16,
     "metadata": {},
     "output_type": "execute_result"
    }
   ],
   "source": [
    "df.corr()"
   ]
  },
  {
   "cell_type": "code",
   "execution_count": 17,
   "id": "2126bc30",
   "metadata": {},
   "outputs": [
    {
     "data": {
      "text/plain": [
       "<AxesSubplot:>"
      ]
     },
     "execution_count": 17,
     "metadata": {},
     "output_type": "execute_result"
    },
    {
     "data": {
      "image/png": "[encoded data removed]",
      "text/plain": [
       "<Figure size 432x288 with 2 Axes>"
      ]
     },
     "metadata": {
      "needs_background": "light"
     },
     "output_type": "display_data"
    }
   ],
   "source": [
    "sns.heatmap(df.corr(),annot=True, linewidth=0.5)"
   ]
  },
  {
   "cell_type": "markdown",
   "id": "44f54469",
   "metadata": {},
   "source": [
    "From the above heat map it can be seen that there is strong relation between Tv and Sales, followed by radio and than newspaper.\n",
    "The problem is regression problem.\n",
    "We can remove outliers from newspaper.\n",
    "Sales is the label, TV, newpaper and radio will be the feature."
   ]
  },
  {
   "cell_type": "code",
   "execution_count": 18,
   "id": "13059778",
   "metadata": {},
   "outputs": [
    {
     "name": "stderr",
     "output_type": "stream",
     "text": [
      "C:\\Users\\admin\\anaconda3\\lib\\site-packages\\seaborn\\distributions.py:2557: FutureWarning: `distplot` is a deprecated function and will be removed in a future version. Please adapt your code to use either `displot` (a figure-level function with similar flexibility) or `histplot` (an axes-level function for histograms).\n",
      "  warnings.warn(msg, FutureWarning)\n"
     ]
    },
    {
     "data": {
      "text/plain": [
       "<AxesSubplot:xlabel='newspaper', ylabel='Density'>"
      ]
     },
     "execution_count": 18,
     "metadata": {},
     "output_type": "execute_result"
    },
    {
     "data": {
      "image/png": "[encoded data removed]",
      "text/plain": [
       "<Figure size 432x288 with 1 Axes>"
      ]
     },
     "metadata": {
      "needs_background": "light"
     },
     "output_type": "display_data"
    }
   ],
   "source": [
    "sns.distplot(df[\"newspaper\"])"
   ]
  },
  {
   "cell_type": "code",
   "execution_count": 19,
   "id": "4ce6cc69",
   "metadata": {},
   "outputs": [
    {
     "name": "stderr",
     "output_type": "stream",
     "text": [
      "C:\\Users\\admin\\anaconda3\\lib\\site-packages\\seaborn\\distributions.py:2557: FutureWarning: `distplot` is a deprecated function and will be removed in a future version. Please adapt your code to use either `displot` (a figure-level function with similar flexibility) or `histplot` (an axes-level function for histograms).\n",
      "  warnings.warn(msg, FutureWarning)\n"
     ]
    },
    {
     "data": {
      "text/plain": [
       "<AxesSubplot:xlabel='radio', ylabel='Density'>"
      ]
     },
     "execution_count": 19,
     "metadata": {},
     "output_type": "execute_result"
    },
    {
     "data": {
      "image/png": "[encoded data removed]",
      "text/plain": [
       "<Figure size 432x288 with 1 Axes>"
      ]
     },
     "metadata": {
      "needs_background": "light"
     },
     "output_type": "display_data"
    }
   ],
   "source": [
    "sns.distplot(df[\"radio\"])"
   ]
  },
  {
   "cell_type": "code",
   "execution_count": 20,
   "id": "7a8a492b",
   "metadata": {},
   "outputs": [
    {
     "name": "stderr",
     "output_type": "stream",
     "text": [
      "C:\\Users\\admin\\anaconda3\\lib\\site-packages\\seaborn\\distributions.py:2557: FutureWarning: `distplot` is a deprecated function and will be removed in a future version. Please adapt your code to use either `displot` (a figure-level function with similar flexibility) or `histplot` (an axes-level function for histograms).\n",
      "  warnings.warn(msg, FutureWarning)\n"
     ]
    },
    {
     "data": {
      "text/plain": [
       "<AxesSubplot:xlabel='TV', ylabel='Density'>"
      ]
     },
     "execution_count": 20,
     "metadata": {},
     "output_type": "execute_result"
    },
    {
     "data": {
      "image/png": "[encoded data removed]",
      "text/plain": [
       "<Figure size 432x288 with 1 Axes>"
      ]
     },
     "metadata": {
      "needs_background": "light"
     },
     "output_type": "display_data"
    }
   ],
   "source": [
    "sns.distplot(df[\"TV\"])"
   ]
  },
  {
   "cell_type": "code",
   "execution_count": 23,
   "id": "6d9b531c",
   "metadata": {},
   "outputs": [
    {
     "data": {
      "text/plain": [
       "TV           218.825\n",
       "radio         36.525\n",
       "newspaper     45.100\n",
       "sales         17.400\n",
       "Name: 0.75, dtype: float64"
      ]
     },
     "execution_count": 23,
     "metadata": {},
     "output_type": "execute_result"
    }
   ],
   "source": [
    "q3=df.quantile(0.75)\n",
    "q3"
   ]
  },
  {
   "cell_type": "code",
   "execution_count": 25,
   "id": "65d23f2c",
   "metadata": {},
   "outputs": [
    {
     "data": {
      "text/plain": [
       "TV           74.375\n",
       "radio         9.975\n",
       "newspaper    12.750\n",
       "sales        10.375\n",
       "Name: 0.25, dtype: float64"
      ]
     },
     "execution_count": 25,
     "metadata": {},
     "output_type": "execute_result"
    }
   ],
   "source": [
    "q1=df.quantile(0.25)\n",
    "q1"
   ]
  },
  {
   "cell_type": "code",
   "execution_count": 28,
   "id": "14edcb4a",
   "metadata": {},
   "outputs": [
    {
     "data": {
      "text/plain": [
       "TV           144.450\n",
       "radio         26.550\n",
       "newspaper     32.350\n",
       "sales          7.025\n",
       "dtype: float64"
      ]
     },
     "execution_count": 28,
     "metadata": {},
     "output_type": "execute_result"
    }
   ],
   "source": [
    "iqr=q3-q1\n",
    "iqr"
   ]
  },
  {
   "cell_type": "code",
   "execution_count": 30,
   "id": "87414108",
   "metadata": {},
   "outputs": [
    {
     "data": {
      "text/plain": [
       "93.625"
      ]
     },
     "execution_count": 30,
     "metadata": {},
     "output_type": "execute_result"
    }
   ],
   "source": [
    "np_high=(q3.newspaper+(1.5*iqr.newspaper))\n",
    "np_high"
   ]
  },
  {
   "cell_type": "code",
   "execution_count": 31,
   "id": "e64636c6",
   "metadata": {},
   "outputs": [
    {
     "data": {
      "text/plain": [
       "(array([ 16, 101], dtype=int64),)"
      ]
     },
     "execution_count": 31,
     "metadata": {},
     "output_type": "execute_result"
    }
   ],
   "source": [
    "index=np.where(df['newspaper']>np_high)\n",
    "index"
   ]
  },
  {
   "cell_type": "code",
   "execution_count": 37,
   "id": "68515443",
   "metadata": {},
   "outputs": [],
   "source": [
    "df=df.drop(df.index[index])"
   ]
  },
  {
   "cell_type": "code",
   "execution_count": 36,
   "id": "cb1f122d",
   "metadata": {},
   "outputs": [
    {
     "data": {
      "text/html": [
       "<div>\n",
       "<style scoped>\n",
       "    .dataframe tbody tr th:only-of-type {\n",
       "        vertical-align: middle;\n",
       "    }\n",
       "\n",
       "    .dataframe tbody tr th {\n",
       "        vertical-align: top;\n",
       "    }\n",
       "\n",
       "    .dataframe thead th {\n",
       "        text-align: right;\n",
       "    }\n",
       "</style>\n",
       "<table border=\"1\" class=\"dataframe\">\n",
       "  <thead>\n",
       "    <tr style=\"text-align: right;\">\n",
       "      <th></th>\n",
       "      <th>index</th>\n",
       "      <th>TV</th>\n",
       "      <th>radio</th>\n",
       "      <th>newspaper</th>\n",
       "      <th>sales</th>\n",
       "    </tr>\n",
       "  </thead>\n",
       "  <tbody>\n",
       "    <tr>\n",
       "      <th>0</th>\n",
       "      <td>0</td>\n",
       "      <td>230.1</td>\n",
       "      <td>37.8</td>\n",
       "      <td>69.2</td>\n",
       "      <td>22.1</td>\n",
       "    </tr>\n",
       "    <tr>\n",
       "      <th>1</th>\n",
       "      <td>1</td>\n",
       "      <td>44.5</td>\n",
       "      <td>39.3</td>\n",
       "      <td>45.1</td>\n",
       "      <td>10.4</td>\n",
       "    </tr>\n",
       "    <tr>\n",
       "      <th>2</th>\n",
       "      <td>2</td>\n",
       "      <td>17.2</td>\n",
       "      <td>45.9</td>\n",
       "      <td>69.3</td>\n",
       "      <td>9.3</td>\n",
       "    </tr>\n",
       "    <tr>\n",
       "      <th>3</th>\n",
       "      <td>3</td>\n",
       "      <td>151.5</td>\n",
       "      <td>41.3</td>\n",
       "      <td>58.5</td>\n",
       "      <td>18.5</td>\n",
       "    </tr>\n",
       "    <tr>\n",
       "      <th>4</th>\n",
       "      <td>4</td>\n",
       "      <td>180.8</td>\n",
       "      <td>10.8</td>\n",
       "      <td>58.4</td>\n",
       "      <td>12.9</td>\n",
       "    </tr>\n",
       "    <tr>\n",
       "      <th>...</th>\n",
       "      <td>...</td>\n",
       "      <td>...</td>\n",
       "      <td>...</td>\n",
       "      <td>...</td>\n",
       "      <td>...</td>\n",
       "    </tr>\n",
       "    <tr>\n",
       "      <th>192</th>\n",
       "      <td>195</td>\n",
       "      <td>38.2</td>\n",
       "      <td>3.7</td>\n",
       "      <td>13.8</td>\n",
       "      <td>7.6</td>\n",
       "    </tr>\n",
       "    <tr>\n",
       "      <th>193</th>\n",
       "      <td>196</td>\n",
       "      <td>94.2</td>\n",
       "      <td>4.9</td>\n",
       "      <td>8.1</td>\n",
       "      <td>9.7</td>\n",
       "    </tr>\n",
       "    <tr>\n",
       "      <th>194</th>\n",
       "      <td>197</td>\n",
       "      <td>177.0</td>\n",
       "      <td>9.3</td>\n",
       "      <td>6.4</td>\n",
       "      <td>12.8</td>\n",
       "    </tr>\n",
       "    <tr>\n",
       "      <th>195</th>\n",
       "      <td>198</td>\n",
       "      <td>283.6</td>\n",
       "      <td>42.0</td>\n",
       "      <td>66.2</td>\n",
       "      <td>25.5</td>\n",
       "    </tr>\n",
       "    <tr>\n",
       "      <th>196</th>\n",
       "      <td>199</td>\n",
       "      <td>232.1</td>\n",
       "      <td>8.6</td>\n",
       "      <td>8.7</td>\n",
       "      <td>13.4</td>\n",
       "    </tr>\n",
       "  </tbody>\n",
       "</table>\n",
       "<p>197 rows × 5 columns</p>\n",
       "</div>"
      ],
      "text/plain": [
       "     index     TV  radio  newspaper  sales\n",
       "0        0  230.1   37.8       69.2   22.1\n",
       "1        1   44.5   39.3       45.1   10.4\n",
       "2        2   17.2   45.9       69.3    9.3\n",
       "3        3  151.5   41.3       58.5   18.5\n",
       "4        4  180.8   10.8       58.4   12.9\n",
       "..     ...    ...    ...        ...    ...\n",
       "192    195   38.2    3.7       13.8    7.6\n",
       "193    196   94.2    4.9        8.1    9.7\n",
       "194    197  177.0    9.3        6.4   12.8\n",
       "195    198  283.6   42.0       66.2   25.5\n",
       "196    199  232.1    8.6        8.7   13.4\n",
       "\n",
       "[197 rows x 5 columns]"
      ]
     },
     "execution_count": 36,
     "metadata": {},
     "output_type": "execute_result"
    }
   ],
   "source": [
    "df.reset_index()"
   ]
  },
  {
   "cell_type": "code",
   "execution_count": 38,
   "id": "3ab9b39f",
   "metadata": {},
   "outputs": [
    {
     "data": {
      "text/plain": [
       "<AxesSubplot:>"
      ]
     },
     "execution_count": 38,
     "metadata": {},
     "output_type": "execute_result"
    },
    {
     "data": {
      "image/png": "[encoded data removed]",
      "text/plain": [
       "<Figure size 1440x720 with 1 Axes>"
      ]
     },
     "metadata": {
      "needs_background": "light"
     },
     "output_type": "display_data"
    }
   ],
   "source": [
    "df.plot(kind='box', figsize=(20,10), color='r')"
   ]
  },
  {
   "cell_type": "markdown",
   "id": "f2a8bf38",
   "metadata": {},
   "source": [
    "Now the data-set looks clean"
   ]
  },
  {
   "cell_type": "code",
   "execution_count": 40,
   "id": "00dfdad0",
   "metadata": {},
   "outputs": [],
   "source": [
    "x=df.drop(columns=['sales'])\n",
    "y=df['sales']"
   ]
  },
  {
   "cell_type": "code",
   "execution_count": 41,
   "id": "4506d542",
   "metadata": {},
   "outputs": [
    {
     "data": {
      "text/plain": [
       "array([[ 0.99145097,  0.99523652,  1.93241612],\n",
       "       [-1.19464587,  1.09612256,  0.74955848],\n",
       "       [-1.51619999,  1.54002116,  1.93732424],\n",
       "       [ 0.0656578 ,  1.23063729,  1.40724696],\n",
       "       [ 0.410769  , -0.82071228,  1.40233884],\n",
       "       [-1.61631757,  1.74179325,  2.21708726],\n",
       "       [-1.04152487,  0.6589497 , -0.31059609],\n",
       "       [-0.30301047, -0.22884749, -0.89466273],\n",
       "       [-1.61749542, -1.40585134, -1.41492377],\n",
       "       [ 0.63456124, -1.37222266, -0.42348292],\n",
       "       [-0.94022943, -1.1569991 , -0.27623923],\n",
       "       [ 0.81006147,  0.06708491, -1.26768008],\n",
       "       [-1.43846163,  0.81364164,  1.77044806],\n",
       "       [-0.5703833 , -1.03593585, -1.11062014],\n",
       "       [ 0.68520896,  0.66567544,  0.79373158],\n",
       "       [ 0.58273567,  1.66108441,  1.13239207],\n",
       "       [ 0.01618794,  0.06035917, -0.5265535 ],\n",
       "       [ 0.85364207,  0.31593715,  1.15693269],\n",
       "       [ 1.07743431, -1.20407925, -0.31059609],\n",
       "       [-1.56331414, -0.47769973,  0.97042401],\n",
       "       [ 0.9702496 , -0.41044237, -0.17807677],\n",
       "       [-0.98498788, -0.69964903, -0.56581849],\n",
       "       [ 1.37778705, -1.31169103, -0.50692101],\n",
       "       [-0.03563763,  0.42354893, -0.8455815 ],\n",
       "       [ 1.10923636, -0.42389384, -0.34004483],\n",
       "       [ 1.21170965,  0.27558273, -0.34004483],\n",
       "       [-0.887226  , -0.470974  ,  0.53850919],\n",
       "       [ 1.73114323,  0.35629157,  0.65630414],\n",
       "       [-0.3889938 , -0.37681369,  0.43053048],\n",
       "       [-0.57391687, -1.44620576,  0.0084319 ],\n",
       "       [ 1.40958911, -0.20194454, -1.44928063],\n",
       "       [-0.59158467, -1.4529315 , -1.1008039 ],\n",
       "       [ 1.70523044, -1.27133662, -1.04681454],\n",
       "       [ 1.42490121,  1.3987807 , -1.21859885],\n",
       "       [-0.83893399,  1.77542193,  0.77900722],\n",
       "       [-1.21113583,  0.24867979,  0.25874618],\n",
       "       [ 0.96671604,  0.98851078,  0.10659436],\n",
       "       [ 0.6663633 , -0.04725261,  0.08696187],\n",
       "       [ 0.36601055,  0.69930412,  0.43543861],\n",
       "       [ 1.7393882 ,  0.31593715, -1.37565878],\n",
       "       [ 0.71818887, -0.98212996, -0.16826052],\n",
       "       [-1.42314953,  0.18142243,  0.66121226],\n",
       "       [ 0.34363133, -0.03380114,  0.08205375],\n",
       "       [-0.66225591, -0.88124391,  0.28819491],\n",
       "       [ 1.10688066,  1.24408876, -0.55600224],\n",
       "       [ 0.95729321, -0.48442547,  0.98514838],\n",
       "       [-0.9308066 , -0.76018066,  0.34218427],\n",
       "       [ 0.63456124, -1.33859398,  0.23420556],\n",
       "       [-0.53622554, -0.90142112, -1.28731257],\n",
       "       [ 0.83008499,  1.25754023,  0.47961171],\n",
       "       [ 0.43197037,  1.56019837,  1.41706321],\n",
       "       [ 1.37543135,  0.38992025, -0.68361344],\n",
       "       [ 0.62396056,  1.77542193,  1.48086881],\n",
       "       [-1.63280752,  0.3428401 ,  0.56795793],\n",
       "       [-0.11455384, -0.25575043, -0.64925658],\n",
       "       [ 0.76412517,  1.7888734 ,  0.38635737],\n",
       "       [ 0.76294732,  0.4370004 , -1.00754956],\n",
       "       [-1.08863902, -1.41257708, -0.41366667],\n",
       "       [ 1.35894139,  1.3247976 ,  1.22073829],\n",
       "       [ 1.09981353, -0.50460268, -0.12408742],\n",
       "       [-0.5091349 ,  0.44372614, -1.05172267],\n",
       "       [-0.17462439,  1.33152333, -0.04555745],\n",
       "       [-0.90607167, -0.92159833, -1.41983189],\n",
       "       [-1.34776688,  0.10743933, -1.35602629],\n",
       "       [-0.07804037, -0.57186004, -0.96337645],\n",
       "       [ 1.07743431,  0.30248568, -0.92411147],\n",
       "       [ 0.8347964 ,  1.40550643, -0.12899554],\n",
       "       [ 0.62631626,  0.5109835 ,  0.43543861],\n",
       "       [-0.42550727, -0.58531151,  0.09186999],\n",
       "       [-1.40312601,  0.67240118, -0.51673726],\n",
       "       [-0.19464791, -1.16372484,  0.0722375 ],\n",
       "       [ 0.79474937,  0.10743933, -0.82104088],\n",
       "       [-1.51973355,  1.39205496,  2.92385697],\n",
       "       [-1.39488104, -1.43948002, -0.44802354],\n",
       "       [-0.29947691,  0.36974304, -0.76705153],\n",
       "       [-1.65518675,  0.46390335, -1.00264144],\n",
       "       [-0.35248033, -1.02921011, -0.33022858],\n",
       "       [-0.81891048,  0.24867979, -0.36949357],\n",
       "       [ 1.1057028 , -1.27133662,  0.34709239],\n",
       "       [-0.83186687, -0.18176733,  0.13113498],\n",
       "       [-0.91313879,  1.44586085,  0.28328679],\n",
       "       [ 0.79592723,  1.34497481,  0.19494058],\n",
       "       [ 0.55682288, -0.30955632,  1.76063182],\n",
       "       [-0.82008833,  0.30248568, -0.67870532],\n",
       "       [-0.41490659,  1.18355713,  1.63792874],\n",
       "       [-0.67874586,  0.16797095,  2.13855729],\n",
       "       [-0.42550727,  1.66781015,  1.05877023],\n",
       "       [-0.13693307, -1.21753073, -1.00754956],\n",
       "       [-1.38192464, -1.44620576,  0.15567559],\n",
       "       [ 0.84539709,  0.70602986,  1.43178758],\n",
       "       [ 1.23644459,  0.90780195,  2.08456793],\n",
       "       [-0.45377577, -0.60548872, -0.92901959],\n",
       "       [ 0.20464457,  0.57824087,  1.13239207],\n",
       "       [ 0.60864845, -1.31169103, -1.17442574],\n",
       "       [ 0.45906101, -0.13468718, -0.38421794],\n",
       "       [ 1.6934519 ,  1.29789465,  1.04895398],\n",
       "       [-0.12633238,  1.25754023,  0.78882346],\n",
       "       [ 0.90075622, -1.25788514,  0.98024026],\n",
       "       [ 1.58155578, -0.86779244, -0.41366667],\n",
       "       [ 0.49439663, -0.39026516, -0.58545098],\n",
       "       [-0.09453033,  1.57364984,  1.43178758],\n",
       "       [-1.42432738, -0.80726081, -0.00629247],\n",
       "       [-0.65401093, -1.5269146 , -0.32532046],\n",
       "       [-1.564492  , -1.52018886, -0.20752551],\n",
       "       [ 1.28944801,  0.26213126, -1.19405823],\n",
       "       [ 0.94080326, -0.99558143,  1.3090845 ],\n",
       "       [ 1.12808203,  1.00868799, -0.32532046],\n",
       "       [ 0.35069845, -0.51132841, -1.34621005],\n",
       "       [ 0.74999092, -0.16159013, -0.93883584],\n",
       "       [-0.79770911,  1.60055279,  0.22929744],\n",
       "       [-0.83422258,  0.8069159 ,  1.12257583],\n",
       "       [-0.07921823, -0.58531151, -0.20752551],\n",
       "       [-0.81891048, -1.49328591, -0.73760279],\n",
       "       [-0.2382285 ,  0.93470489,  2.42322842],\n",
       "       [-1.4902872 , -0.470974  , -0.36949357],\n",
       "       [-0.05448329,  0.25540552,  0.80354783],\n",
       "       [-1.49735433, -0.08760703,  1.009689  ],\n",
       "       [ 0.91960189, -1.38567413, -0.69833781],\n",
       "       [-0.2688527 ,  0.78001296, -0.85539775],\n",
       "       [ 0.98438385,  0.62532102,  2.17782227],\n",
       "       [-0.69170226, -0.75345492, -0.19280114],\n",
       "       [-1.62691826,  1.06921962,  1.01950524],\n",
       "       [-0.77415203, -1.5470918 , -1.01245768],\n",
       "       [ 0.87602129,  1.74851898, -1.30694506],\n",
       "       [-1.01678993, -0.74000345,  0.65139602],\n",
       "       [-1.71054588,  1.11629977, -1.0369983 ],\n",
       "       [ 1.40487769, -1.35204545,  0.64648789],\n",
       "       [-1.61985113,  0.28230847, -1.36093441],\n",
       "       [ 0.87013202,  0.70602986,  0.74955848],\n",
       "       [-1.28416277,  1.04904241,  1.75572369],\n",
       "       [-1.14988742,  1.61400426, -1.04681454],\n",
       "       [-1.41726026,  1.07594535, -1.00754956],\n",
       "       [ 1.50499528,  0.39664599,  1.46614444],\n",
       "       [-1.21231368,  0.1948739 , -0.45783978],\n",
       "       [ 0.45906101,  1.40550643, -1.38056691],\n",
       "       [-0.85424609, -0.40371663, -0.83085713],\n",
       "       [ 0.56271215,  0.83381885,  2.24653599],\n",
       "       [ 0.878377  ,  0.68585265,  0.39617362],\n",
       "       [-0.48675568, -1.16372484,  0.22438932],\n",
       "       [-0.5856954 , -0.55168283,  0.44525485],\n",
       "       [-0.06626183, -1.41930281, -1.02227393],\n",
       "       [ 1.10923636, -1.05611305, -1.0369983 ],\n",
       "       [ 1.14574983,  1.74851898,  0.71029349],\n",
       "       [-1.27120638,  1.16337993, -0.87993836],\n",
       "       [-1.19229016,  0.18814816, -0.45293166],\n",
       "       [ 1.58744505, -0.61221446,  0.35200051],\n",
       "       [-0.29358764, -0.98212996,  0.92625091],\n",
       "       [ 0.60864845,  0.02000475, -0.76705153],\n",
       "       [ 0.29887288,  1.12302551,  0.38635737],\n",
       "       [ 0.49321877, -0.12796144, -0.99773331],\n",
       "       [-1.67049885, -0.76690639, -1.18424199],\n",
       "       [-0.61278604,  1.37860349,  1.01459712],\n",
       "       [ 0.04563429, -1.45965723, -0.27133111],\n",
       "       [-1.58098195,  0.93470489,  0.7544666 ],\n",
       "       [-0.16755727, -0.30955632,  0.23420556],\n",
       "       [ 0.31300712, -0.32973353,  0.04278876],\n",
       "       [-0.70937006,  0.86072179,  0.95569964],\n",
       "       [ 0.5002859 , -0.32973353, -0.20752551],\n",
       "       [ 0.20700027,  0.92797916, -1.1008039 ],\n",
       "       [-0.33834608, -0.55840857, -1.19896636],\n",
       "       [ 1.04327655, -1.31841677,  2.69808331],\n",
       "       [-1.50795501,  0.98178505, -0.40385043],\n",
       "       [ 0.71701101, -1.19735352, -0.51182913],\n",
       "       [ 0.81830645,  0.04018196,  1.36307385],\n",
       "       [ 1.62984779, -0.83416376, -1.14988513],\n",
       "       [-1.12986391, -0.76690639, -0.56091036],\n",
       "       [ 0.21877881, -0.14141292,  0.86244531],\n",
       "       [-1.48793149, -0.19521881, -0.62962409],\n",
       "       [ 0.26471511, -1.06956453, -0.83576525],\n",
       "       [ 0.90075622, -1.31841677, -0.82104088],\n",
       "       [ 1.5426866 ,  1.74179325,  0.58759042],\n",
       "       [ 1.20699824,  0.48408056, -0.46765603],\n",
       "       [ 0.28591648, -1.02248437,  0.2636543 ],\n",
       "       [ 1.54033089, -1.39239987, -0.30077985],\n",
       "       [ 0.23173521, -0.87451817, -0.60017535],\n",
       "       [ 0.12572835, -1.37222266, -1.05663079],\n",
       "       [ 0.85481992, -1.18390204, -0.11917929],\n",
       "       [-1.05683697, -1.16372484, -0.00629247],\n",
       "       [ 1.66871697,  1.34497481,  2.06002732],\n",
       "       [ 1.27060235, -0.11450997,  0.0084319 ],\n",
       "       [ 0.69580964,  1.48621527, -0.50201289],\n",
       "       [-0.07568466, -1.40585134, -0.15844428],\n",
       "       [ 0.53208795,  0.38319451, -0.57072661],\n",
       "       [ 1.64987131, -0.61221446, -1.28240445],\n",
       "       [-1.49853218, -0.73327771, -0.31550421],\n",
       "       [-1.25353857,  1.21718582, -1.17933386],\n",
       "       [-0.82951116, -0.82071228, -1.16951762],\n",
       "       [-1.51619999, -1.27133662,  0.08696187],\n",
       "       [ 0.24586945,  1.27771744, -1.28731257],\n",
       "       [ 0.04445643,  0.84727032, -1.16951762],\n",
       "       [-1.26885067, -1.29823956, -0.78668402],\n",
       "       [-0.60925248, -1.21753073, -1.06644703],\n",
       "       [ 0.36601055, -0.92159833, -1.14988513],\n",
       "       [ 1.62160281,  1.27771744,  1.78517243],\n",
       "       [ 1.01500805, -0.96867848, -1.0369983 ]])"
      ]
     },
     "execution_count": 41,
     "metadata": {},
     "output_type": "execute_result"
    }
   ],
   "source": [
    "scaler=StandardScaler()\n",
    "x_scaled= scaler.fit_transform(x)\n",
    "x_scaled"
   ]
  },
  {
   "cell_type": "code",
   "execution_count": 45,
   "id": "bf4161e5",
   "metadata": {},
   "outputs": [
    {
     "data": {
      "text/html": [
       "<div>\n",
       "<style scoped>\n",
       "    .dataframe tbody tr th:only-of-type {\n",
       "        vertical-align: middle;\n",
       "    }\n",
       "\n",
       "    .dataframe tbody tr th {\n",
       "        vertical-align: top;\n",
       "    }\n",
       "\n",
       "    .dataframe thead th {\n",
       "        text-align: right;\n",
       "    }\n",
       "</style>\n",
       "<table border=\"1\" class=\"dataframe\">\n",
       "  <thead>\n",
       "    <tr style=\"text-align: right;\">\n",
       "      <th></th>\n",
       "      <th>vif</th>\n",
       "      <th>features</th>\n",
       "    </tr>\n",
       "  </thead>\n",
       "  <tbody>\n",
       "    <tr>\n",
       "      <th>0</th>\n",
       "      <td>1.002597</td>\n",
       "      <td>TV</td>\n",
       "    </tr>\n",
       "    <tr>\n",
       "      <th>1</th>\n",
       "      <td>1.138397</td>\n",
       "      <td>radio</td>\n",
       "    </tr>\n",
       "    <tr>\n",
       "      <th>2</th>\n",
       "      <td>1.138934</td>\n",
       "      <td>newspaper</td>\n",
       "    </tr>\n",
       "  </tbody>\n",
       "</table>\n",
       "</div>"
      ],
      "text/plain": [
       "        vif   features\n",
       "0  1.002597         TV\n",
       "1  1.138397      radio\n",
       "2  1.138934  newspaper"
      ]
     },
     "execution_count": 45,
     "metadata": {},
     "output_type": "execute_result"
    }
   ],
   "source": [
    "vif=pd.DataFrame()\n",
    "vif[\"vif\"]=[variance_inflation_factor(x_scaled, i) for i in range (x_scaled.shape[1])]\n",
    "vif['features']=x.columns\n",
    "vif"
   ]
  },
  {
   "cell_type": "code",
   "execution_count": 46,
   "id": "3e0f6c36",
   "metadata": {},
   "outputs": [],
   "source": [
    "##vif is less than 5: no multicollinearity..also seen in heatmap."
   ]
  },
  {
   "cell_type": "markdown",
   "id": "da3b6221",
   "metadata": {},
   "source": [
    "1. split data in train-test\n",
    "2. applying linear regression"
   ]
  },
  {
   "cell_type": "code",
   "execution_count": 52,
   "id": "76c0c9f7",
   "metadata": {},
   "outputs": [],
   "source": [
    "x_train, x_test, y_train, y_test= train_test_split(x_scaled,y,test_size=0.25, random_state=323)\n"
   ]
  },
  {
   "cell_type": "code",
   "execution_count": 53,
   "id": "59fc4234",
   "metadata": {},
   "outputs": [
    {
     "data": {
      "text/plain": [
       "LinearRegression()"
      ]
     },
     "execution_count": 53,
     "metadata": {},
     "output_type": "execute_result"
    }
   ],
   "source": [
    "regression=LinearRegression()\n",
    "regression.fit(x_train, y_train)"
   ]
  },
  {
   "cell_type": "code",
   "execution_count": 54,
   "id": "10394598",
   "metadata": {},
   "outputs": [
    {
     "data": {
      "text/plain": [
       "0.9066288030469988"
      ]
     },
     "execution_count": 54,
     "metadata": {},
     "output_type": "execute_result"
    }
   ],
   "source": [
    "regression.score(x_train,y_train)"
   ]
  },
  {
   "cell_type": "code",
   "execution_count": 55,
   "id": "f0397e29",
   "metadata": {},
   "outputs": [
    {
     "data": {
      "text/plain": [
       "0.8500173107953324"
      ]
     },
     "execution_count": 55,
     "metadata": {},
     "output_type": "execute_result"
    }
   ],
   "source": [
    "regression.score(x_test,y_test)"
   ]
  },
  {
   "cell_type": "code",
   "execution_count": 56,
   "id": "9177717e",
   "metadata": {},
   "outputs": [
    {
     "data": {
      "text/plain": [
       "array([14.1935656 , 18.52637852, 14.47316682, 12.73729571, 24.55069994,\n",
       "       15.72533975, 13.75144664, 12.04492967, 20.7024706 , 11.08286256,\n",
       "       17.69702759, 10.78514932, 13.82411965, 16.2398764 , 10.16221679,\n",
       "       10.94874605, 14.97676577, 10.72420695, 11.84812354, 13.03000622,\n",
       "       12.05566864, 12.33272414, 15.80970128, 14.14488583,  6.7700652 ,\n",
       "       20.95526551, 23.16921033,  9.72394168, 14.49755171, 10.0517866 ,\n",
       "       19.1085621 , 18.25427726,  9.93675962, 13.60515118,  5.6957067 ,\n",
       "       13.21271977,  7.65197003, 11.02264917,  8.372034  , 15.22621098,\n",
       "        5.62624727, 17.68931659, 19.97477289, 14.77250377, 11.69280964,\n",
       "       21.85665487, 23.48634507, 14.32820543, 10.40255652])"
      ]
     },
     "execution_count": 56,
     "metadata": {},
     "output_type": "execute_result"
    }
   ],
   "source": [
    "y_pred=regression.predict(x_test)\n",
    "y_pred"
   ]
  },
  {
   "cell_type": "code",
   "execution_count": 57,
   "id": "f355d796",
   "metadata": {},
   "outputs": [
    {
     "data": {
      "image/png": "[encoded data removed]",
      "text/plain": [
       "<Figure size 432x288 with 1 Axes>"
      ]
     },
     "metadata": {
      "needs_background": "light"
     },
     "output_type": "display_data"
    }
   ],
   "source": [
    "plt.scatter(y_test,y_pred)\n",
    "plt.xlabel(\"actual sales\")\n",
    "plt.ylabel(\"predicted sales\")\n",
    "plt.title(\"actual sales vs predicted\")\n",
    "plt.show()"
   ]
  },
  {
   "cell_type": "code",
   "execution_count": 58,
   "id": "c6b0dea4",
   "metadata": {},
   "outputs": [],
   "source": [
    "from sklearn.metrics import mean_squared_error, mean_absolute_error"
   ]
  },
  {
   "cell_type": "code",
   "execution_count": 59,
   "id": "46c7579c",
   "metadata": {},
   "outputs": [],
   "source": [
    "y_pred= regression.predict(x_test)"
   ]
  },
  {
   "cell_type": "code",
   "execution_count": 60,
   "id": "df2472b0",
   "metadata": {},
   "outputs": [
    {
     "data": {
      "text/plain": [
       "1.431450994202026"
      ]
     },
     "execution_count": 60,
     "metadata": {},
     "output_type": "execute_result"
    }
   ],
   "source": [
    "mean_absolute_error(y_test, y_pred)"
   ]
  },
  {
   "cell_type": "code",
   "execution_count": 61,
   "id": "8b0b04e7",
   "metadata": {},
   "outputs": [
    {
     "data": {
      "text/plain": [
       "4.513170891119661"
      ]
     },
     "execution_count": 61,
     "metadata": {},
     "output_type": "execute_result"
    }
   ],
   "source": [
    "mean_squared_error(y_test, y_pred)"
   ]
  },
  {
   "cell_type": "code",
   "execution_count": 62,
   "id": "6a97989e",
   "metadata": {},
   "outputs": [
    {
     "data": {
      "text/plain": [
       "2.124422484140022"
      ]
     },
     "execution_count": 62,
     "metadata": {},
     "output_type": "execute_result"
    }
   ],
   "source": [
    "np.sqrt(mean_squared_error(y_test, y_pred))"
   ]
  },
  {
   "cell_type": "markdown",
   "id": "e1e8d337",
   "metadata": {},
   "source": [
    "Now lets try KNN Model building technique"
   ]
  },
  {
   "cell_type": "code",
   "execution_count": 63,
   "id": "854dbaec",
   "metadata": {},
   "outputs": [],
   "source": [
    "from sklearn.neighbors import KNeighborsRegressor"
   ]
  },
  {
   "cell_type": "code",
   "execution_count": 64,
   "id": "97b57633",
   "metadata": {},
   "outputs": [],
   "source": [
    "knn= KNeighborsRegressor()"
   ]
  },
  {
   "cell_type": "code",
   "execution_count": 66,
   "id": "6cb9eb5d",
   "metadata": {},
   "outputs": [
    {
     "data": {
      "text/plain": [
       "KNeighborsRegressor()"
      ]
     },
     "execution_count": 66,
     "metadata": {},
     "output_type": "execute_result"
    }
   ],
   "source": [
    "knn.fit(x_train,y_train)"
   ]
  },
  {
   "cell_type": "code",
   "execution_count": 68,
   "id": "e6eb5c2b",
   "metadata": {},
   "outputs": [
    {
     "data": {
      "text/plain": [
       "array([14.22, 17.76, 15.56, 11.48, 23.98, 16.36, 12.8 , 12.48, 22.88,\n",
       "        8.28, 18.48,  9.12, 14.24, 15.68,  9.14,  8.9 , 12.64, 11.48,\n",
       "       12.1 , 11.76, 11.42, 12.  , 15.84, 14.08,  7.42, 21.96, 22.38,\n",
       "       10.74, 13.58, 10.8 , 19.96, 18.78, 10.44, 12.82,  7.64, 13.46,\n",
       "        8.68,  9.46,  8.68, 15.7 ,  8.36, 18.42, 19.84, 15.86, 11.94,\n",
       "       22.84, 24.02, 14.74, 10.72])"
      ]
     },
     "execution_count": 68,
     "metadata": {},
     "output_type": "execute_result"
    }
   ],
   "source": [
    "y_pred= knn.predict(x_test)\n",
    "y_pred"
   ]
  },
  {
   "cell_type": "code",
   "execution_count": 69,
   "id": "e8c0f136",
   "metadata": {},
   "outputs": [
    {
     "data": {
      "text/plain": [
       "0.9573243207103924"
      ]
     },
     "execution_count": 69,
     "metadata": {},
     "output_type": "execute_result"
    }
   ],
   "source": [
    "\n",
    "knn.score(x_train,y_train)"
   ]
  },
  {
   "cell_type": "code",
   "execution_count": 70,
   "id": "f1af2c52",
   "metadata": {},
   "outputs": [
    {
     "data": {
      "text/plain": [
       "0.9037293776149092"
      ]
     },
     "execution_count": 70,
     "metadata": {},
     "output_type": "execute_result"
    }
   ],
   "source": [
    "knn.score(x_test, y_test)"
   ]
  },
  {
   "cell_type": "code",
   "execution_count": 71,
   "id": "05b16101",
   "metadata": {},
   "outputs": [
    {
     "data": {
      "image/png": "[encoded data removed]",
      "text/plain": [
       "<Figure size 432x288 with 1 Axes>"
      ]
     },
     "metadata": {
      "needs_background": "light"
     },
     "output_type": "display_data"
    }
   ],
   "source": [
    "plt.scatter(y_test,y_pred)\n",
    "plt.xlabel(\"actual sales\")\n",
    "plt.ylabel(\"predicted sales\")\n",
    "plt.title(\"actual sales vs predicted\")\n",
    "plt.show()"
   ]
  },
  {
   "cell_type": "code",
   "execution_count": 72,
   "id": "462bcbc8",
   "metadata": {},
   "outputs": [],
   "source": [
    "##  the accuracy score has increased , also the scatter plot."
   ]
  },
  {
   "cell_type": "code",
   "execution_count": 75,
   "id": "a66801f6",
   "metadata": {},
   "outputs": [],
   "source": [
    "from sklearn import tree\n",
    "clf = tree.DecisionTreeRegressor()\n",
    "clf = clf.fit(x_train, y_train)"
   ]
  },
  {
   "cell_type": "code",
   "execution_count": 76,
   "id": "55977ef9",
   "metadata": {},
   "outputs": [],
   "source": [
    "clf = clf.fit(x_train, y_train)"
   ]
  },
  {
   "cell_type": "code",
   "execution_count": 77,
   "id": "c228b94f",
   "metadata": {},
   "outputs": [
    {
     "data": {
      "text/plain": [
       "1.0"
      ]
     },
     "execution_count": 77,
     "metadata": {},
     "output_type": "execute_result"
    }
   ],
   "source": [
    "clf.score(x_train, y_train)"
   ]
  },
  {
   "cell_type": "code",
   "execution_count": 78,
   "id": "3181ac33",
   "metadata": {},
   "outputs": [
    {
     "data": {
      "text/plain": [
       "0.9142201791688651"
      ]
     },
     "execution_count": 78,
     "metadata": {},
     "output_type": "execute_result"
    }
   ],
   "source": [
    "clf.score(x_test, y_test)"
   ]
  },
  {
   "cell_type": "code",
   "execution_count": 83,
   "id": "9960b6ee",
   "metadata": {},
   "outputs": [
    {
     "data": {
      "text/plain": [
       "array([17. , 15.9, 14.2, 10.8, 25.4, 14.2, 13.4, 11.9, 22.6,  9.3, 19.2,\n",
       "        8.5, 14. , 17.6,  9.6,  9.3, 12.3, 12.2, 10.9,  9.3, 11.7, 11.5,\n",
       "       17.2, 14.9,  8.1, 25.4, 25.4, 11. , 13.4, 11. , 19.6, 19.6, 10.5,\n",
       "       11.4,  5.7, 11.8,  9.7,  8.5,  9.7, 15. ,  9.4, 18.4, 20.7, 14.7,\n",
       "       10.9, 23.7, 26.2, 14.9, 10.9])"
      ]
     },
     "execution_count": 83,
     "metadata": {},
     "output_type": "execute_result"
    }
   ],
   "source": [
    "y_pred= clf.predict(x_test)\n",
    "y_pred"
   ]
  },
  {
   "cell_type": "code",
   "execution_count": 84,
   "id": "caa18c0f",
   "metadata": {},
   "outputs": [
    {
     "data": {
      "image/png": "[encoded data removed]",
      "text/plain": [
       "<Figure size 432x288 with 1 Axes>"
      ]
     },
     "metadata": {
      "needs_background": "light"
     },
     "output_type": "display_data"
    }
   ],
   "source": [
    "plt.scatter(y_test,y_pred)\n",
    "plt.xlabel(\"actual sales\")\n",
    "plt.ylabel(\"predicted sales\")\n",
    "plt.title(\"actual sales vs predicted\")\n",
    "plt.show()"
   ]
  },
  {
   "cell_type": "code",
   "execution_count": 89,
   "id": "1e16d8a2",
   "metadata": {},
   "outputs": [],
   "source": [
    "## accuracy score increased to 91%"
   ]
  },
  {
   "cell_type": "code",
   "execution_count": 111,
   "id": "392514be",
   "metadata": {},
   "outputs": [],
   "source": [
    "import pickle"
   ]
  },
  {
   "cell_type": "code",
   "execution_count": 114,
   "id": "2414ec2e",
   "metadata": {},
   "outputs": [],
   "source": [
    "filename='advertising sales.pickle'\n",
    "pickle.dump(clf,open(filename,'wb'))"
   ]
  },
  {
   "cell_type": "code",
   "execution_count": null,
   "id": "96db71b8",
   "metadata": {},
   "outputs": [],
   "source": []
  }
 ],
 "metadata": {
  "kernelspec": {
   "display_name": "Python 3",
   "language": "python",
   "name": "python3"
  },
  "language_info": {
   "codemirror_mode": {
    "name": "ipython",
    "version": 3
   },
   "file_extension": ".py",
   "mimetype": "text/x-python",
   "name": "python",
   "nbconvert_exporter": "python",
   "pygments_lexer": "ipython3",
   "version": "3.8.8"
  }
 },
 "nbformat": 4,
 "nbformat_minor": 5
}
